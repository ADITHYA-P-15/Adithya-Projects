{
 "cells": [
  {
   "cell_type": "code",
   "execution_count": null,
   "id": "aa58b2b1-0c8b-41c3-9eaa-01b7ce58cf55",
   "metadata": {},
   "outputs": [],
   "source": [
    "#NAME : Adithya Prasad\n",
    "#REG NO.:240953436"
   ]
  },
  {
   "cell_type": "code",
   "execution_count": 1,
   "id": "d75bbc8c-3968-4f42-b5eb-7c2a65d98d73",
   "metadata": {},
   "outputs": [],
   "source": [
    "import pandas as pd\n",
    "from sklearn.linear_model import LogisticRegression\n",
    "from sklearn.preprocessing import StandardScaler, LabelEncoder\n",
    "from sklearn.model_selection import train_test_split\n",
    "from sklearn.metrics import accuracy_score"
   ]
  },
  {
   "cell_type": "code",
   "execution_count": 3,
   "id": "23e5b324-083e-4596-9c2a-eafafdb2f962",
   "metadata": {},
   "outputs": [],
   "source": [
    "train_df = pd.read_excel(\"weather.xlsx\")\n",
    "test_df = pd.read_excel(\"weather_test_150.xlsx\")\n",
    "\n",
    "features = [\n",
    "    'temperature_celsius',\n",
    "    'wind_kph',\n",
    "    'pressure_mb',\n",
    "    'humidity',\n",
    "    'cloud'\n",
    "]\n",
    "\n",
    "target = 'condition_text'"
   ]
  },
  {
   "cell_type": "code",
   "execution_count": 5,
   "id": "7d336205-4e35-42c0-8452-e97ec594178f",
   "metadata": {},
   "outputs": [],
   "source": [
    "train_df.dropna(subset=features + [target], inplace=True)\n",
    "X = train_df[features].copy()\n",
    "y = train_df[target]\n",
    "X_final_test = test_df[features].copy()\n",
    "X_final_test.fillna(0, inplace=True)"
   ]
  },
  {
   "cell_type": "code",
   "execution_count": 7,
   "id": "d622dab7-19f9-4016-bd2f-a871847b0933",
   "metadata": {},
   "outputs": [],
   "source": [
    "scaler = StandardScaler()\n",
    "label_encoder = LabelEncoder()"
   ]
  },
  {
   "cell_type": "code",
   "execution_count": 9,
   "id": "56ef224b-0df0-4598-8742-e162743dd939",
   "metadata": {},
   "outputs": [],
   "source": [
    "X_scaled = scaler.fit_transform(X)\n",
    "y_encoded = label_encoder.fit_transform(y)"
   ]
  },
  {
   "cell_type": "code",
   "execution_count": 23,
   "id": "6fbb67e6-c6ef-46db-af84-6f8c0075f882",
   "metadata": {},
   "outputs": [
    {
     "name": "stdout",
     "output_type": "stream",
     "text": [
      "Model Accuracy Score: 76.35%\n"
     ]
    }
   ],
   "source": [
    "from sklearn.ensemble import RandomForestClassifier\n",
    "X_train_split, X_val, y_train_split, y_val = train_test_split(\n",
    "    X_scaled, y_encoded, test_size=0.2, random_state=42\n",
    ")\n",
    "\n",
    "temp_model = RandomForestClassifier(n_estimators=100, random_state=42)\n",
    "temp_model.fit(X_train_split, y_train_split)\n",
    "\n",
    "predictions = temp_model.predict(X_val)\n",
    "accuracy = accuracy_score(y_val, predictions)\n",
    "\n",
    "\n",
    "print(f\"Model Accuracy Score: {accuracy * 100:.2f}%\")"
   ]
  },
  {
   "cell_type": "code",
   "execution_count": 25,
   "id": "db77a485-c65b-4b1f-abf4-71404343e681",
   "metadata": {},
   "outputs": [],
   "source": [
    "final_model = RandomForestClassifier(n_estimators=100, random_state=42)\n",
    "\n",
    "final_model.fit(X_scaled, y_encoded)\n",
    "\n",
    "X_final_test_scaled = scaler.transform(X_final_test)\n",
    "final_predictions_encoded = final_model.predict(X_final_test_scaled)\n",
    "final_predictions = label_encoder.inverse_transform(final_predictions_encoded)"
   ]
  },
  {
   "cell_type": "code",
   "execution_count": 29,
   "id": "51facf26-42b1-4b91-8458-5d9f6d862079",
   "metadata": {},
   "outputs": [],
   "source": [
    "predicted_file = test_df.copy()\n",
    "predicted_file['predicted_condition'] = final_predictions\n",
    "final = 'weather_test_150_with_predictions.csv'\n",
    "predicted_file.to_csv(final, index=False)"
   ]
  }
 ],
 "metadata": {
  "kernelspec": {
   "display_name": "Python [conda env:base] *",
   "language": "python",
   "name": "conda-base-py"
  },
  "language_info": {
   "codemirror_mode": {
    "name": "ipython",
    "version": 3
   },
   "file_extension": ".py",
   "mimetype": "text/x-python",
   "name": "python",
   "nbconvert_exporter": "python",
   "pygments_lexer": "ipython3",
   "version": "3.12.7"
  }
 },
 "nbformat": 4,
 "nbformat_minor": 5
}
